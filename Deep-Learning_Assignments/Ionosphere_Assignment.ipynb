{
  "nbformat": 4,
  "nbformat_minor": 0,
  "metadata": {
    "kernelspec": {
      "display_name": "Python 3",
      "language": "python",
      "name": "python3"
    },
    "language_info": {
      "codemirror_mode": {
        "name": "ipython",
        "version": 3
      },
      "file_extension": ".py",
      "mimetype": "text/x-python",
      "name": "python",
      "nbconvert_exporter": "python",
      "pygments_lexer": "ipython3",
      "version": "3.7.3"
    },
    "colab": {
      "name": "Ionosphere Assignment.ipynb",
      "provenance": [],
      "collapsed_sections": []
    }
  },
  "cells": [
    {
      "cell_type": "markdown",
      "metadata": {
        "id": "ppKnB2tJtgAT"
      },
      "source": [
        "# Assignment: Ionosphere Data Problem\n",
        "\n",
        "### Dataset Description: \n",
        "\n",
        "This radar data was collected by a system in Goose Bay, Labrador. This system consists of a phased array of 16 high-frequency antennas with a total transmitted power on the order of 6.4 kilowatts. See the paper for more details. The targets were free electrons in the ionosphere. \"Good\" radar returns are those showing evidence of some type of structure in the ionosphere. \"Bad\" returns are those that do not; their signals pass through the ionosphere.\n",
        "\n",
        "Received signals were processed using an autocorrelation function whose arguments are the time of a pulse and the pulse number. There were 17 pulse numbers for the Goose Bay system. Instances in this databse are described by 2 attributes per pulse number, corresponding to the complex values returned by the function resulting from the complex electromagnetic signal.\n",
        "\n",
        "### Attribute Information:\n",
        "\n",
        "- All 34 are continuous\n",
        "- The 35th attribute is either \"good\" or \"bad\" according to the definition summarized above. This is a binary classification task.\n",
        "\n",
        " <br><br>\n",
        "\n",
        "<table border=\"1\"  cellpadding=\"6\">\n",
        "\t<tbody>\n",
        "        <tr>\n",
        "\t\t<td bgcolor=\"#DDEEFF\"><p class=\"normal\"><b>Data Set Characteristics:&nbsp;&nbsp;</b></p></td>\n",
        "\t\t<td><p class=\"normal\">Multivariate</p></td>\n",
        "\t\t<td bgcolor=\"#DDEEFF\"><p class=\"normal\"><b>Number of Instances:</b></p></td>\n",
        "\t\t<td><p class=\"normal\">351</p></td>\n",
        "\t\t<td bgcolor=\"#DDEEFF\"><p class=\"normal\"><b>Area:</b></p></td>\n",
        "\t\t<td><p class=\"normal\">Physical</p></td>\n",
        "        </tr>\n",
        "     </tbody>\n",
        "    </table>\n",
        "<table border=\"1\" cellpadding=\"6\">\n",
        "    <tbody>\n",
        "        <tr>\n",
        "            <td bgcolor=\"#DDEEFF\"><p class=\"normal\"><b>Attribute Characteristics:</b></p></td>\n",
        "            <td><p class=\"normal\">Integer,Real</p></td>\n",
        "            <td bgcolor=\"#DDEEFF\"><p class=\"normal\"><b>Number of Attributes:</b></p></td>\n",
        "            <td><p class=\"normal\">34</p></td>\n",
        "            <td bgcolor=\"#DDEEFF\"><p class=\"normal\"><b>Date Donated</b></p></td>\n",
        "            <td><p class=\"normal\">N/A</p></td>\n",
        "        </tr>\n",
        "     </tbody>\n",
        "    </table>\n",
        "<table border=\"1\" cellpadding=\"6\">\t\n",
        "    <tbody>\n",
        "    <tr>\n",
        "\t\t<td bgcolor=\"#DDEEFF\"><p class=\"normal\"><b>Associated Tasks:</b></p></td>\n",
        "\t\t<td><p class=\"normal\">Classification</p></td>\n",
        "\t\t<td bgcolor=\"#DDEEFF\"><p class=\"normal\"><b>Missing Values?</b></p></td>\n",
        "\t\t<td><p class=\"normal\">N/A</p></td>\n",
        "\t\t<td bgcolor=\"#DDEEFF\"><p class=\"normal\"><b>Number of Web Hits:</b></p></td>\n",
        "\t\t<td><p class=\"normal\">N/A</p></td>\n",
        "\t</tr>\n",
        "    </tbody>\n",
        "    </table>"
      ]
    },
    {
      "cell_type": "markdown",
      "metadata": {
        "id": "g3kFGATGtgAk"
      },
      "source": [
        "# Load Data:\n",
        "[Click Here to Download DataSet](https://github.com/ramsha275/ML_Datasets/blob/main/ionosphere_data.csv)"
      ]
    },
    {
      "cell_type": "code",
      "metadata": {
        "id": "T2bvve6suHFW"
      },
      "source": [
        "import numpy as np\n",
        "import pandas as pd"
      ],
      "execution_count": null,
      "outputs": []
    },
    {
      "cell_type": "markdown",
      "metadata": {
        "id": "_jcwqWSNBTn8"
      },
      "source": [
        "- Load Data"
      ]
    },
    {
      "cell_type": "code",
      "metadata": {
        "colab": {
          "base_uri": "https://localhost:8080/",
          "height": 226
        },
        "id": "dy7QzLQUvUBh",
        "outputId": "1929a819-9c62-4fad-d889-6d06b45051b0"
      },
      "source": [
        "data = pd.read_csv('https://raw.githubusercontent.com/ramsha275/ML_Datasets/main/ionosphere_data.csv')\n",
        "data.head()"
      ],
      "execution_count": null,
      "outputs": [
        {
          "output_type": "execute_result",
          "data": {
            "text/html": [
              "<div>\n",
              "<style scoped>\n",
              "    .dataframe tbody tr th:only-of-type {\n",
              "        vertical-align: middle;\n",
              "    }\n",
              "\n",
              "    .dataframe tbody tr th {\n",
              "        vertical-align: top;\n",
              "    }\n",
              "\n",
              "    .dataframe thead th {\n",
              "        text-align: right;\n",
              "    }\n",
              "</style>\n",
              "<table border=\"1\" class=\"dataframe\">\n",
              "  <thead>\n",
              "    <tr style=\"text-align: right;\">\n",
              "      <th></th>\n",
              "      <th>feature1</th>\n",
              "      <th>feature2</th>\n",
              "      <th>feature3</th>\n",
              "      <th>feature4</th>\n",
              "      <th>feature5</th>\n",
              "      <th>feature6</th>\n",
              "      <th>feature7</th>\n",
              "      <th>feature8</th>\n",
              "      <th>feature9</th>\n",
              "      <th>feature10</th>\n",
              "      <th>feature11</th>\n",
              "      <th>feature12</th>\n",
              "      <th>feature13</th>\n",
              "      <th>feature14</th>\n",
              "      <th>feature15</th>\n",
              "      <th>feature16</th>\n",
              "      <th>feature17</th>\n",
              "      <th>feature18</th>\n",
              "      <th>feature19</th>\n",
              "      <th>feature20</th>\n",
              "      <th>feature21</th>\n",
              "      <th>feature22</th>\n",
              "      <th>feature23</th>\n",
              "      <th>feature24</th>\n",
              "      <th>feature25</th>\n",
              "      <th>feature26</th>\n",
              "      <th>feature27</th>\n",
              "      <th>feature28</th>\n",
              "      <th>feature29</th>\n",
              "      <th>feature30</th>\n",
              "      <th>feature31</th>\n",
              "      <th>feature32</th>\n",
              "      <th>feature33</th>\n",
              "      <th>feature34</th>\n",
              "      <th>label</th>\n",
              "    </tr>\n",
              "  </thead>\n",
              "  <tbody>\n",
              "    <tr>\n",
              "      <th>0</th>\n",
              "      <td>1</td>\n",
              "      <td>0</td>\n",
              "      <td>0.99539</td>\n",
              "      <td>-0.05889</td>\n",
              "      <td>0.85243</td>\n",
              "      <td>0.02306</td>\n",
              "      <td>0.83398</td>\n",
              "      <td>-0.37708</td>\n",
              "      <td>1.00000</td>\n",
              "      <td>0.03760</td>\n",
              "      <td>0.85243</td>\n",
              "      <td>-0.17755</td>\n",
              "      <td>0.59755</td>\n",
              "      <td>-0.44945</td>\n",
              "      <td>0.60536</td>\n",
              "      <td>-0.38223</td>\n",
              "      <td>0.84356</td>\n",
              "      <td>-0.38542</td>\n",
              "      <td>0.58212</td>\n",
              "      <td>-0.32192</td>\n",
              "      <td>0.56971</td>\n",
              "      <td>-0.29674</td>\n",
              "      <td>0.36946</td>\n",
              "      <td>-0.47357</td>\n",
              "      <td>0.56811</td>\n",
              "      <td>-0.51171</td>\n",
              "      <td>0.41078</td>\n",
              "      <td>-0.46168</td>\n",
              "      <td>0.21266</td>\n",
              "      <td>-0.34090</td>\n",
              "      <td>0.42267</td>\n",
              "      <td>-0.54487</td>\n",
              "      <td>0.18641</td>\n",
              "      <td>-0.45300</td>\n",
              "      <td>g</td>\n",
              "    </tr>\n",
              "    <tr>\n",
              "      <th>1</th>\n",
              "      <td>1</td>\n",
              "      <td>0</td>\n",
              "      <td>1.00000</td>\n",
              "      <td>-0.18829</td>\n",
              "      <td>0.93035</td>\n",
              "      <td>-0.36156</td>\n",
              "      <td>-0.10868</td>\n",
              "      <td>-0.93597</td>\n",
              "      <td>1.00000</td>\n",
              "      <td>-0.04549</td>\n",
              "      <td>0.50874</td>\n",
              "      <td>-0.67743</td>\n",
              "      <td>0.34432</td>\n",
              "      <td>-0.69707</td>\n",
              "      <td>-0.51685</td>\n",
              "      <td>-0.97515</td>\n",
              "      <td>0.05499</td>\n",
              "      <td>-0.62237</td>\n",
              "      <td>0.33109</td>\n",
              "      <td>-1.00000</td>\n",
              "      <td>-0.13151</td>\n",
              "      <td>-0.45300</td>\n",
              "      <td>-0.18056</td>\n",
              "      <td>-0.35734</td>\n",
              "      <td>-0.20332</td>\n",
              "      <td>-0.26569</td>\n",
              "      <td>-0.20468</td>\n",
              "      <td>-0.18401</td>\n",
              "      <td>-0.19040</td>\n",
              "      <td>-0.11593</td>\n",
              "      <td>-0.16626</td>\n",
              "      <td>-0.06288</td>\n",
              "      <td>-0.13738</td>\n",
              "      <td>-0.02447</td>\n",
              "      <td>b</td>\n",
              "    </tr>\n",
              "    <tr>\n",
              "      <th>2</th>\n",
              "      <td>1</td>\n",
              "      <td>0</td>\n",
              "      <td>1.00000</td>\n",
              "      <td>-0.03365</td>\n",
              "      <td>1.00000</td>\n",
              "      <td>0.00485</td>\n",
              "      <td>1.00000</td>\n",
              "      <td>-0.12062</td>\n",
              "      <td>0.88965</td>\n",
              "      <td>0.01198</td>\n",
              "      <td>0.73082</td>\n",
              "      <td>0.05346</td>\n",
              "      <td>0.85443</td>\n",
              "      <td>0.00827</td>\n",
              "      <td>0.54591</td>\n",
              "      <td>0.00299</td>\n",
              "      <td>0.83775</td>\n",
              "      <td>-0.13644</td>\n",
              "      <td>0.75535</td>\n",
              "      <td>-0.08540</td>\n",
              "      <td>0.70887</td>\n",
              "      <td>-0.27502</td>\n",
              "      <td>0.43385</td>\n",
              "      <td>-0.12062</td>\n",
              "      <td>0.57528</td>\n",
              "      <td>-0.40220</td>\n",
              "      <td>0.58984</td>\n",
              "      <td>-0.22145</td>\n",
              "      <td>0.43100</td>\n",
              "      <td>-0.17365</td>\n",
              "      <td>0.60436</td>\n",
              "      <td>-0.24180</td>\n",
              "      <td>0.56045</td>\n",
              "      <td>-0.38238</td>\n",
              "      <td>g</td>\n",
              "    </tr>\n",
              "    <tr>\n",
              "      <th>3</th>\n",
              "      <td>1</td>\n",
              "      <td>0</td>\n",
              "      <td>1.00000</td>\n",
              "      <td>-0.45161</td>\n",
              "      <td>1.00000</td>\n",
              "      <td>1.00000</td>\n",
              "      <td>0.71216</td>\n",
              "      <td>-1.00000</td>\n",
              "      <td>0.00000</td>\n",
              "      <td>0.00000</td>\n",
              "      <td>0.00000</td>\n",
              "      <td>0.00000</td>\n",
              "      <td>0.00000</td>\n",
              "      <td>0.00000</td>\n",
              "      <td>-1.00000</td>\n",
              "      <td>0.14516</td>\n",
              "      <td>0.54094</td>\n",
              "      <td>-0.39330</td>\n",
              "      <td>-1.00000</td>\n",
              "      <td>-0.54467</td>\n",
              "      <td>-0.69975</td>\n",
              "      <td>1.00000</td>\n",
              "      <td>0.00000</td>\n",
              "      <td>0.00000</td>\n",
              "      <td>1.00000</td>\n",
              "      <td>0.90695</td>\n",
              "      <td>0.51613</td>\n",
              "      <td>1.00000</td>\n",
              "      <td>1.00000</td>\n",
              "      <td>-0.20099</td>\n",
              "      <td>0.25682</td>\n",
              "      <td>1.00000</td>\n",
              "      <td>-0.32382</td>\n",
              "      <td>1.00000</td>\n",
              "      <td>b</td>\n",
              "    </tr>\n",
              "    <tr>\n",
              "      <th>4</th>\n",
              "      <td>1</td>\n",
              "      <td>0</td>\n",
              "      <td>1.00000</td>\n",
              "      <td>-0.02401</td>\n",
              "      <td>0.94140</td>\n",
              "      <td>0.06531</td>\n",
              "      <td>0.92106</td>\n",
              "      <td>-0.23255</td>\n",
              "      <td>0.77152</td>\n",
              "      <td>-0.16399</td>\n",
              "      <td>0.52798</td>\n",
              "      <td>-0.20275</td>\n",
              "      <td>0.56409</td>\n",
              "      <td>-0.00712</td>\n",
              "      <td>0.34395</td>\n",
              "      <td>-0.27457</td>\n",
              "      <td>0.52940</td>\n",
              "      <td>-0.21780</td>\n",
              "      <td>0.45107</td>\n",
              "      <td>-0.17813</td>\n",
              "      <td>0.05982</td>\n",
              "      <td>-0.35575</td>\n",
              "      <td>0.02309</td>\n",
              "      <td>-0.52879</td>\n",
              "      <td>0.03286</td>\n",
              "      <td>-0.65158</td>\n",
              "      <td>0.13290</td>\n",
              "      <td>-0.53206</td>\n",
              "      <td>0.02431</td>\n",
              "      <td>-0.62197</td>\n",
              "      <td>-0.05707</td>\n",
              "      <td>-0.59573</td>\n",
              "      <td>-0.04608</td>\n",
              "      <td>-0.65697</td>\n",
              "      <td>g</td>\n",
              "    </tr>\n",
              "  </tbody>\n",
              "</table>\n",
              "</div>"
            ],
            "text/plain": [
              "   feature1  feature2  feature3  ...  feature33  feature34  label\n",
              "0         1         0   0.99539  ...    0.18641   -0.45300      g\n",
              "1         1         0   1.00000  ...   -0.13738   -0.02447      b\n",
              "2         1         0   1.00000  ...    0.56045   -0.38238      g\n",
              "3         1         0   1.00000  ...   -0.32382    1.00000      b\n",
              "4         1         0   1.00000  ...   -0.04608   -0.65697      g\n",
              "\n",
              "[5 rows x 35 columns]"
            ]
          },
          "metadata": {
            "tags": []
          },
          "execution_count": 2
        }
      ]
    },
    {
      "cell_type": "markdown",
      "metadata": {
        "id": "Fh00Ie-vDRDn"
      },
      "source": [
        "- Check Missing Values ( If Exist ; Fill each record with mean of its feature ) or any usless column.\n",
        "- Shuffle the data if needed."
      ]
    },
    {
      "cell_type": "code",
      "metadata": {
        "colab": {
          "base_uri": "https://localhost:8080/"
        },
        "id": "G869zEhPvUo7",
        "outputId": "438b77c0-3810-4c46-f1bc-bcd52ec21520"
      },
      "source": [
        "data.isna().value_counts()"
      ],
      "execution_count": null,
      "outputs": [
        {
          "output_type": "execute_result",
          "data": {
            "text/plain": [
              "feature1  feature2  feature3  feature4  feature5  feature6  feature7  feature8  feature9  feature10  feature11  feature12  feature13  feature14  feature15  feature16  feature17  feature18  feature19  feature20  feature21  feature22  feature23  feature24  feature25  feature26  feature27  feature28  feature29  feature30  feature31  feature32  feature33  feature34  label\n",
              "False     False     False     False     False     False     False     False     False     False      False      False      False      False      False      False      False      False      False      False      False      False      False      False      False      False      False      False      False      False      False      False      False      False      False    351\n",
              "dtype: int64"
            ]
          },
          "metadata": {
            "tags": []
          },
          "execution_count": 3
        }
      ]
    },
    {
      "cell_type": "code",
      "metadata": {
        "colab": {
          "base_uri": "https://localhost:8080/"
        },
        "id": "OczTG5Nvv5uf",
        "outputId": "3c120ecc-e99d-4a0c-efe8-f8417a2465d5"
      },
      "source": [
        "data.isnull().value_counts()"
      ],
      "execution_count": null,
      "outputs": [
        {
          "output_type": "execute_result",
          "data": {
            "text/plain": [
              "feature1  feature2  feature3  feature4  feature5  feature6  feature7  feature8  feature9  feature10  feature11  feature12  feature13  feature14  feature15  feature16  feature17  feature18  feature19  feature20  feature21  feature22  feature23  feature24  feature25  feature26  feature27  feature28  feature29  feature30  feature31  feature32  feature33  feature34  label\n",
              "False     False     False     False     False     False     False     False     False     False      False      False      False      False      False      False      False      False      False      False      False      False      False      False      False      False      False      False      False      False      False      False      False      False      False    351\n",
              "dtype: int64"
            ]
          },
          "metadata": {
            "tags": []
          },
          "execution_count": 4
        }
      ]
    },
    {
      "cell_type": "code",
      "metadata": {
        "colab": {
          "base_uri": "https://localhost:8080/"
        },
        "id": "IF_jiz6w5QSb",
        "outputId": "622a2b4e-cfe7-49f4-a117-756b1872a025"
      },
      "source": [
        "data.duplicated().value_counts()"
      ],
      "execution_count": null,
      "outputs": [
        {
          "output_type": "execute_result",
          "data": {
            "text/plain": [
              "False    350\n",
              "True       1\n",
              "dtype: int64"
            ]
          },
          "metadata": {
            "tags": []
          },
          "execution_count": 5
        }
      ]
    },
    {
      "cell_type": "code",
      "metadata": {
        "id": "lhI13DO_5Y0W"
      },
      "source": [
        "data.drop_duplicates(inplace=True)"
      ],
      "execution_count": null,
      "outputs": []
    },
    {
      "cell_type": "code",
      "metadata": {
        "id": "vO4CO9co5htv"
      },
      "source": [
        "# Since Feature 2 columns doesnot have any correlation and value other then 0 we can drop it\n",
        "data.drop('feature2',axis=1,inplace=True)"
      ],
      "execution_count": null,
      "outputs": []
    },
    {
      "cell_type": "markdown",
      "metadata": {
        "id": "sChtdwo8CLcg"
      },
      "source": [
        "- Standardized the Input Variables. **Hint**: Centeralized the data"
      ]
    },
    {
      "cell_type": "code",
      "metadata": {
        "id": "2fAUZgd95pGM"
      },
      "source": [
        "labels = data.label\n",
        "data.drop('label',axis=1, inplace=True)"
      ],
      "execution_count": null,
      "outputs": []
    },
    {
      "cell_type": "code",
      "metadata": {
        "id": "mgJ0N89DD2ZF"
      },
      "source": [
        "mean = data.mean(axis=0)\n",
        "data -= mean\n",
        "std = data.std(axis=0)\n",
        "data /= std"
      ],
      "execution_count": null,
      "outputs": []
    },
    {
      "cell_type": "code",
      "metadata": {
        "colab": {
          "base_uri": "https://localhost:8080/",
          "height": 320
        },
        "id": "ykAeqG5uFI9T",
        "outputId": "dcbdc9cb-4adb-4b20-fb60-ca0eacbc4ea7"
      },
      "source": [
        "data.describe()"
      ],
      "execution_count": null,
      "outputs": [
        {
          "output_type": "execute_result",
          "data": {
            "text/html": [
              "<div>\n",
              "<style scoped>\n",
              "    .dataframe tbody tr th:only-of-type {\n",
              "        vertical-align: middle;\n",
              "    }\n",
              "\n",
              "    .dataframe tbody tr th {\n",
              "        vertical-align: top;\n",
              "    }\n",
              "\n",
              "    .dataframe thead th {\n",
              "        text-align: right;\n",
              "    }\n",
              "</style>\n",
              "<table border=\"1\" class=\"dataframe\">\n",
              "  <thead>\n",
              "    <tr style=\"text-align: right;\">\n",
              "      <th></th>\n",
              "      <th>feature1</th>\n",
              "      <th>feature3</th>\n",
              "      <th>feature4</th>\n",
              "      <th>feature5</th>\n",
              "      <th>feature6</th>\n",
              "      <th>feature7</th>\n",
              "      <th>feature8</th>\n",
              "      <th>feature9</th>\n",
              "      <th>feature10</th>\n",
              "      <th>feature11</th>\n",
              "      <th>feature12</th>\n",
              "      <th>feature13</th>\n",
              "      <th>feature14</th>\n",
              "      <th>feature15</th>\n",
              "      <th>feature16</th>\n",
              "      <th>feature17</th>\n",
              "      <th>feature18</th>\n",
              "      <th>feature19</th>\n",
              "      <th>feature20</th>\n",
              "      <th>feature21</th>\n",
              "      <th>feature22</th>\n",
              "      <th>feature23</th>\n",
              "      <th>feature24</th>\n",
              "      <th>feature25</th>\n",
              "      <th>feature26</th>\n",
              "      <th>feature27</th>\n",
              "      <th>feature28</th>\n",
              "      <th>feature29</th>\n",
              "      <th>feature30</th>\n",
              "      <th>feature31</th>\n",
              "      <th>feature32</th>\n",
              "      <th>feature33</th>\n",
              "      <th>feature34</th>\n",
              "    </tr>\n",
              "  </thead>\n",
              "  <tbody>\n",
              "    <tr>\n",
              "      <th>count</th>\n",
              "      <td>3.500000e+02</td>\n",
              "      <td>3.500000e+02</td>\n",
              "      <td>3.500000e+02</td>\n",
              "      <td>3.500000e+02</td>\n",
              "      <td>3.500000e+02</td>\n",
              "      <td>3.500000e+02</td>\n",
              "      <td>3.500000e+02</td>\n",
              "      <td>3.500000e+02</td>\n",
              "      <td>3.500000e+02</td>\n",
              "      <td>3.500000e+02</td>\n",
              "      <td>3.500000e+02</td>\n",
              "      <td>3.500000e+02</td>\n",
              "      <td>3.500000e+02</td>\n",
              "      <td>3.500000e+02</td>\n",
              "      <td>3.500000e+02</td>\n",
              "      <td>3.500000e+02</td>\n",
              "      <td>3.500000e+02</td>\n",
              "      <td>3.500000e+02</td>\n",
              "      <td>3.500000e+02</td>\n",
              "      <td>3.500000e+02</td>\n",
              "      <td>3.500000e+02</td>\n",
              "      <td>3.500000e+02</td>\n",
              "      <td>3.500000e+02</td>\n",
              "      <td>3.500000e+02</td>\n",
              "      <td>3.500000e+02</td>\n",
              "      <td>3.500000e+02</td>\n",
              "      <td>3.500000e+02</td>\n",
              "      <td>3.500000e+02</td>\n",
              "      <td>3.500000e+02</td>\n",
              "      <td>3.500000e+02</td>\n",
              "      <td>3.500000e+02</td>\n",
              "      <td>3.500000e+02</td>\n",
              "      <td>3.500000e+02</td>\n",
              "    </tr>\n",
              "    <tr>\n",
              "      <th>mean</th>\n",
              "      <td>3.790619e-16</td>\n",
              "      <td>2.851687e-16</td>\n",
              "      <td>-9.119689e-18</td>\n",
              "      <td>3.427417e-16</td>\n",
              "      <td>-1.714502e-16</td>\n",
              "      <td>-3.628843e-16</td>\n",
              "      <td>1.229969e-16</td>\n",
              "      <td>-8.631191e-16</td>\n",
              "      <td>-2.559857e-16</td>\n",
              "      <td>1.849314e-16</td>\n",
              "      <td>1.052333e-16</td>\n",
              "      <td>-2.413942e-16</td>\n",
              "      <td>5.630417e-18</td>\n",
              "      <td>-2.458351e-16</td>\n",
              "      <td>-1.867554e-16</td>\n",
              "      <td>-6.648650e-16</td>\n",
              "      <td>5.166502e-17</td>\n",
              "      <td>-1.021405e-16</td>\n",
              "      <td>-1.390852e-16</td>\n",
              "      <td>-1.953993e-16</td>\n",
              "      <td>-4.877051e-17</td>\n",
              "      <td>-3.698629e-16</td>\n",
              "      <td>4.916702e-18</td>\n",
              "      <td>1.516247e-16</td>\n",
              "      <td>3.179996e-17</td>\n",
              "      <td>-2.759697e-16</td>\n",
              "      <td>-1.076718e-16</td>\n",
              "      <td>4.123686e-16</td>\n",
              "      <td>7.981711e-17</td>\n",
              "      <td>-1.008717e-16</td>\n",
              "      <td>2.232341e-17</td>\n",
              "      <td>-8.120488e-17</td>\n",
              "      <td>-6.130017e-17</td>\n",
              "    </tr>\n",
              "    <tr>\n",
              "      <th>std</th>\n",
              "      <td>1.000000e+00</td>\n",
              "      <td>1.000000e+00</td>\n",
              "      <td>1.000000e+00</td>\n",
              "      <td>1.000000e+00</td>\n",
              "      <td>1.000000e+00</td>\n",
              "      <td>1.000000e+00</td>\n",
              "      <td>1.000000e+00</td>\n",
              "      <td>1.000000e+00</td>\n",
              "      <td>1.000000e+00</td>\n",
              "      <td>1.000000e+00</td>\n",
              "      <td>1.000000e+00</td>\n",
              "      <td>1.000000e+00</td>\n",
              "      <td>1.000000e+00</td>\n",
              "      <td>1.000000e+00</td>\n",
              "      <td>1.000000e+00</td>\n",
              "      <td>1.000000e+00</td>\n",
              "      <td>1.000000e+00</td>\n",
              "      <td>1.000000e+00</td>\n",
              "      <td>1.000000e+00</td>\n",
              "      <td>1.000000e+00</td>\n",
              "      <td>1.000000e+00</td>\n",
              "      <td>1.000000e+00</td>\n",
              "      <td>1.000000e+00</td>\n",
              "      <td>1.000000e+00</td>\n",
              "      <td>1.000000e+00</td>\n",
              "      <td>1.000000e+00</td>\n",
              "      <td>1.000000e+00</td>\n",
              "      <td>1.000000e+00</td>\n",
              "      <td>1.000000e+00</td>\n",
              "      <td>1.000000e+00</td>\n",
              "      <td>1.000000e+00</td>\n",
              "      <td>1.000000e+00</td>\n",
              "      <td>1.000000e+00</td>\n",
              "    </tr>\n",
              "    <tr>\n",
              "      <th>min</th>\n",
              "      <td>-2.904357e+00</td>\n",
              "      <td>-3.304632e+00</td>\n",
              "      <td>-2.362796e+00</td>\n",
              "      <td>-3.084606e+00</td>\n",
              "      <td>-2.419056e+00</td>\n",
              "      <td>-3.150739e+00</td>\n",
              "      <td>-2.147259e+00</td>\n",
              "      <td>-2.984541e+00</td>\n",
              "      <td>-2.439618e+00</td>\n",
              "      <td>-2.621033e+00</td>\n",
              "      <td>-2.332161e+00</td>\n",
              "      <td>-2.251376e+00</td>\n",
              "      <td>-2.206978e+00</td>\n",
              "      <td>-2.058360e+00</td>\n",
              "      <td>-2.334008e+00</td>\n",
              "      <td>-2.235880e+00</td>\n",
              "      <td>-2.002868e+00</td>\n",
              "      <td>-2.170182e+00</td>\n",
              "      <td>-1.877402e+00</td>\n",
              "      <td>-2.191320e+00</td>\n",
              "      <td>-1.943159e+00</td>\n",
              "      <td>-2.256275e+00</td>\n",
              "      <td>-1.784222e+00</td>\n",
              "      <td>-2.413701e+00</td>\n",
              "      <td>-1.823635e+00</td>\n",
              "      <td>-2.983060e+00</td>\n",
              "      <td>-1.701069e+00</td>\n",
              "      <td>-2.393544e+00</td>\n",
              "      <td>-1.910782e+00</td>\n",
              "      <td>-2.366339e+00</td>\n",
              "      <td>-1.936957e+00</td>\n",
              "      <td>-2.581576e+00</td>\n",
              "      <td>-2.163126e+00</td>\n",
              "    </tr>\n",
              "    <tr>\n",
              "      <th>25%</th>\n",
              "      <td>3.433265e-01</td>\n",
              "      <td>-3.413421e-01</td>\n",
              "      <td>-2.485773e-01</td>\n",
              "      <td>-3.604887e-01</td>\n",
              "      <td>-3.057630e-01</td>\n",
              "      <td>-6.739843e-01</td>\n",
              "      <td>-3.354767e-01</td>\n",
              "      <td>-8.283469e-01</td>\n",
              "      <td>-4.765567e-01</td>\n",
              "      <td>-7.976767e-01</td>\n",
              "      <td>-4.463784e-01</td>\n",
              "      <td>-6.454830e-01</td>\n",
              "      <td>-3.386764e-01</td>\n",
              "      <td>-5.281429e-01</td>\n",
              "      <td>-3.361751e-01</td>\n",
              "      <td>-6.192388e-01</td>\n",
              "      <td>-4.479696e-01</td>\n",
              "      <td>-5.749484e-01</td>\n",
              "      <td>-4.103875e-01</td>\n",
              "      <td>-5.531427e-01</td>\n",
              "      <td>-4.919077e-01</td>\n",
              "      <td>-6.015214e-01</td>\n",
              "      <td>-5.946351e-01</td>\n",
              "      <td>-6.862559e-01</td>\n",
              "      <td>-5.134830e-01</td>\n",
              "      <td>-4.971705e-01</td>\n",
              "      <td>-6.601286e-01</td>\n",
              "      <td>-6.584964e-01</td>\n",
              "      <td>-4.110400e-01</td>\n",
              "      <td>-6.180549e-01</td>\n",
              "      <td>-4.650660e-01</td>\n",
              "      <td>-6.698099e-01</td>\n",
              "      <td>-3.866285e-01</td>\n",
              "    </tr>\n",
              "    <tr>\n",
              "      <th>50%</th>\n",
              "      <td>3.433265e-01</td>\n",
              "      <td>4.631037e-01</td>\n",
              "      <td>-6.288430e-02</td>\n",
              "      <td>4.009943e-01</td>\n",
              "      <td>-2.021770e-01</td>\n",
              "      <td>3.607239e-01</td>\n",
              "      <td>-2.006236e-01</td>\n",
              "      <td>3.414646e-01</td>\n",
              "      <td>-3.327481e-01</td>\n",
              "      <td>3.423951e-01</td>\n",
              "      <td>-2.537731e-01</td>\n",
              "      <td>3.913782e-01</td>\n",
              "      <td>-1.274944e-01</td>\n",
              "      <td>3.955726e-01</td>\n",
              "      <td>-1.554114e-01</td>\n",
              "      <td>3.400358e-01</td>\n",
              "      <td>7.291133e-03</td>\n",
              "      <td>3.489391e-01</td>\n",
              "      <td>4.634961e-02</td>\n",
              "      <td>2.690010e-01</td>\n",
              "      <td>-1.603291e-02</td>\n",
              "      <td>2.789896e-01</td>\n",
              "      <td>1.089919e-01</td>\n",
              "      <td>2.730460e-01</td>\n",
              "      <td>1.103483e-01</td>\n",
              "      <td>3.156983e-01</td>\n",
              "      <td>8.968037e-02</td>\n",
              "      <td>2.076653e-01</td>\n",
              "      <td>5.501647e-02</td>\n",
              "      <td>1.632094e-01</td>\n",
              "      <td>7.397490e-03</td>\n",
              "      <td>1.199694e-01</td>\n",
              "      <td>-3.096219e-02</td>\n",
              "    </tr>\n",
              "    <tr>\n",
              "      <th>75%</th>\n",
              "      <td>3.433265e-01</td>\n",
              "      <td>7.176219e-01</td>\n",
              "      <td>3.398379e-01</td>\n",
              "      <td>7.644512e-01</td>\n",
              "      <td>4.748246e-01</td>\n",
              "      <td>8.503508e-01</td>\n",
              "      <td>6.364314e-01</td>\n",
              "      <td>8.694898e-01</td>\n",
              "      <td>7.314106e-01</td>\n",
              "      <td>8.525681e-01</td>\n",
              "      <td>6.622767e-01</td>\n",
              "      <td>8.898756e-01</td>\n",
              "      <td>5.689459e-01</td>\n",
              "      <td>8.788534e-01</td>\n",
              "      <td>5.236190e-01</td>\n",
              "      <td>8.942083e-01</td>\n",
              "      <td>4.002119e-01</td>\n",
              "      <td>8.612683e-01</td>\n",
              "      <td>3.093649e-01</td>\n",
              "      <td>9.159950e-01</td>\n",
              "      <td>3.478470e-01</td>\n",
              "      <td>9.091570e-01</td>\n",
              "      <td>4.211733e-01</td>\n",
              "      <td>8.808216e-01</td>\n",
              "      <td>4.503320e-01</td>\n",
              "      <td>8.892862e-01</td>\n",
              "      <td>4.042325e-01</td>\n",
              "      <td>8.762789e-01</td>\n",
              "      <td>3.581770e-01</td>\n",
              "      <td>8.845776e-01</td>\n",
              "      <td>3.980863e-01</td>\n",
              "      <td>8.916778e-01</td>\n",
              "      <td>3.359939e-01</td>\n",
              "    </tr>\n",
              "    <tr>\n",
              "      <th>max</th>\n",
              "      <td>3.433265e-01</td>\n",
              "      <td>7.176219e-01</td>\n",
              "      <td>2.161473e+00</td>\n",
              "      <td>7.644512e-01</td>\n",
              "      <td>1.915315e+00</td>\n",
              "      <td>9.103637e-01</td>\n",
              "      <td>1.688155e+00</td>\n",
              "      <td>9.598458e-01</td>\n",
              "      <td>1.688808e+00</td>\n",
              "      <td>9.267930e-01</td>\n",
              "      <td>1.704523e+00</td>\n",
              "      <td>9.604104e-01</td>\n",
              "      <td>1.828895e+00</td>\n",
              "      <td>1.002074e+00</td>\n",
              "      <td>2.023185e+00</td>\n",
              "      <td>9.974026e-01</td>\n",
              "      <td>2.017450e+00</td>\n",
              "      <td>1.020285e+00</td>\n",
              "      <td>1.970101e+00</td>\n",
              "      <td>1.085034e+00</td>\n",
              "      <td>1.911093e+00</td>\n",
              "      <td>1.053232e+00</td>\n",
              "      <td>2.002205e+00</td>\n",
              "      <td>1.041189e+00</td>\n",
              "      <td>2.104032e+00</td>\n",
              "      <td>8.902109e-01</td>\n",
              "      <td>1.944909e+00</td>\n",
              "      <td>1.076551e+00</td>\n",
              "      <td>2.020815e+00</td>\n",
              "      <td>1.130229e+00</td>\n",
              "      <td>1.951752e+00</td>\n",
              "      <td>1.241956e+00</td>\n",
              "      <td>2.101202e+00</td>\n",
              "    </tr>\n",
              "  </tbody>\n",
              "</table>\n",
              "</div>"
            ],
            "text/plain": [
              "           feature1      feature3  ...     feature33     feature34\n",
              "count  3.500000e+02  3.500000e+02  ...  3.500000e+02  3.500000e+02\n",
              "mean   3.790619e-16  2.851687e-16  ... -8.120488e-17 -6.130017e-17\n",
              "std    1.000000e+00  1.000000e+00  ...  1.000000e+00  1.000000e+00\n",
              "min   -2.904357e+00 -3.304632e+00  ... -2.581576e+00 -2.163126e+00\n",
              "25%    3.433265e-01 -3.413421e-01  ... -6.698099e-01 -3.866285e-01\n",
              "50%    3.433265e-01  4.631037e-01  ...  1.199694e-01 -3.096219e-02\n",
              "75%    3.433265e-01  7.176219e-01  ...  8.916778e-01  3.359939e-01\n",
              "max    3.433265e-01  7.176219e-01  ...  1.241956e+00  2.101202e+00\n",
              "\n",
              "[8 rows x 33 columns]"
            ]
          },
          "metadata": {
            "tags": []
          },
          "execution_count": 10
        }
      ]
    },
    {
      "cell_type": "markdown",
      "metadata": {
        "id": "_pSNAwwODn1W"
      },
      "source": [
        "- Encode labels."
      ]
    },
    {
      "cell_type": "code",
      "metadata": {
        "colab": {
          "base_uri": "https://localhost:8080/"
        },
        "id": "TezS5vlF8kjj",
        "outputId": "03601d06-b1fe-4e19-b04b-6f88d57992af"
      },
      "source": [
        "temp = labels.replace({'g':1,'b':0})\n",
        "labels = temp\n",
        "labels.value_counts()"
      ],
      "execution_count": null,
      "outputs": [
        {
          "output_type": "execute_result",
          "data": {
            "text/plain": [
              "1    225\n",
              "0    125\n",
              "Name: label, dtype: int64"
            ]
          },
          "metadata": {
            "tags": []
          },
          "execution_count": 11
        }
      ]
    },
    {
      "cell_type": "markdown",
      "metadata": {
        "id": "a_qFpB8nDkPQ"
      },
      "source": [
        "- Split into 60 and 40 ratio."
      ]
    },
    {
      "cell_type": "code",
      "metadata": {
        "colab": {
          "base_uri": "https://localhost:8080/"
        },
        "id": "0mNkBsEo6uRB",
        "outputId": "94612dd3-bf35-4565-c3e8-9f0ba0851fb2"
      },
      "source": [
        "from sklearn.model_selection import train_test_split\n",
        "train_data,test_data,train_labels,test_labels = train_test_split(data,labels,test_size=0.4)\n",
        "len(train_data),len(test_data)"
      ],
      "execution_count": null,
      "outputs": [
        {
          "output_type": "execute_result",
          "data": {
            "text/plain": [
              "(210, 140)"
            ]
          },
          "metadata": {
            "tags": []
          },
          "execution_count": 12
        }
      ]
    },
    {
      "cell_type": "code",
      "metadata": {
        "colab": {
          "base_uri": "https://localhost:8080/"
        },
        "id": "FTHdVApcNb6Q",
        "outputId": "edfad262-41ea-4b39-eff1-65f71431288b"
      },
      "source": [
        "test_data, validation_data , test_labels, validation_labels = train_test_split(test_data, test_labels, test_size = 0.4)\n",
        "len(test_data), len(validation_data)"
      ],
      "execution_count": null,
      "outputs": [
        {
          "output_type": "execute_result",
          "data": {
            "text/plain": [
              "(84, 56)"
            ]
          },
          "metadata": {
            "tags": []
          },
          "execution_count": 13
        }
      ]
    },
    {
      "cell_type": "markdown",
      "metadata": {
        "id": "pc165t05IaGz"
      },
      "source": [
        "\n",
        "- Model : 1 hidden layers including 16 unit."
      ]
    },
    {
      "cell_type": "code",
      "metadata": {
        "id": "fH3ohqfAH4is"
      },
      "source": [
        "from keras import models\n",
        "from keras import layers"
      ],
      "execution_count": null,
      "outputs": []
    },
    {
      "cell_type": "code",
      "metadata": {
        "id": "F9UJmetLIm7-"
      },
      "source": [
        "model = models.Sequential()\n",
        "model.add(layers.Dense(25, activation='relu', input_shape=(33,)))\n",
        "model.add(layers.Dense(16,activation='tanh'))\n",
        "model.add(layers.Dense(1, activation='sigmoid'))"
      ],
      "execution_count": null,
      "outputs": []
    },
    {
      "cell_type": "markdown",
      "metadata": {
        "id": "zIp8D1PHIco5"
      },
      "source": [
        "- Compilation Step (Note : Its a Binary problem , select loss , metrics according to it)"
      ]
    },
    {
      "cell_type": "code",
      "metadata": {
        "id": "h58ZMhC7IdEG"
      },
      "source": [
        "model.compile(optimizer='rmsprop',loss='binary_crossentropy',metrics=['accuracy'])"
      ],
      "execution_count": null,
      "outputs": []
    },
    {
      "cell_type": "markdown",
      "metadata": {
        "id": "c8OFS1PGJWrk"
      },
      "source": [
        "- Train the Model with Epochs (100).\n",
        "- If the model gets overfit tune your model by changing the units , No. of layers , epochs , add dropout layer or add Regularizer according to the need .\n",
        "- Prediction should be > **92%**\n",
        "- Evaluation Step\n",
        "- Prediction\n"
      ]
    },
    {
      "cell_type": "code",
      "metadata": {
        "colab": {
          "base_uri": "https://localhost:8080/"
        },
        "id": "LJSh11L0Jqaz",
        "outputId": "85d83da7-fc5e-4a1d-a04c-d3b256cbe95e"
      },
      "source": [
        "history = model.fit( train_data , train_labels , epochs=120 , batch_size=512 ,validation_data=(validation_data,validation_labels))"
      ],
      "execution_count": null,
      "outputs": [
        {
          "output_type": "stream",
          "text": [
            "Epoch 1/120\n",
            "1/1 [==============================] - 1s 669ms/step - loss: 0.7963 - accuracy: 0.3905 - val_loss: 0.7253 - val_accuracy: 0.3929\n",
            "Epoch 2/120\n",
            "1/1 [==============================] - 0s 32ms/step - loss: 0.7335 - accuracy: 0.4286 - val_loss: 0.6891 - val_accuracy: 0.5179\n",
            "Epoch 3/120\n",
            "1/1 [==============================] - 0s 31ms/step - loss: 0.6935 - accuracy: 0.5095 - val_loss: 0.6620 - val_accuracy: 0.5714\n",
            "Epoch 4/120\n",
            "1/1 [==============================] - 0s 30ms/step - loss: 0.6631 - accuracy: 0.6190 - val_loss: 0.6398 - val_accuracy: 0.6607\n",
            "Epoch 5/120\n",
            "1/1 [==============================] - 0s 28ms/step - loss: 0.6383 - accuracy: 0.7143 - val_loss: 0.6208 - val_accuracy: 0.6964\n",
            "Epoch 6/120\n",
            "1/1 [==============================] - 0s 31ms/step - loss: 0.6169 - accuracy: 0.7429 - val_loss: 0.6042 - val_accuracy: 0.7321\n",
            "Epoch 7/120\n",
            "1/1 [==============================] - 0s 30ms/step - loss: 0.5982 - accuracy: 0.7571 - val_loss: 0.5894 - val_accuracy: 0.7321\n",
            "Epoch 8/120\n",
            "1/1 [==============================] - 0s 31ms/step - loss: 0.5813 - accuracy: 0.7762 - val_loss: 0.5760 - val_accuracy: 0.7321\n",
            "Epoch 9/120\n",
            "1/1 [==============================] - 0s 33ms/step - loss: 0.5660 - accuracy: 0.7952 - val_loss: 0.5637 - val_accuracy: 0.7143\n",
            "Epoch 10/120\n",
            "1/1 [==============================] - 0s 33ms/step - loss: 0.5518 - accuracy: 0.8143 - val_loss: 0.5524 - val_accuracy: 0.7500\n",
            "Epoch 11/120\n",
            "1/1 [==============================] - 0s 30ms/step - loss: 0.5387 - accuracy: 0.8190 - val_loss: 0.5420 - val_accuracy: 0.7679\n",
            "Epoch 12/120\n",
            "1/1 [==============================] - 0s 36ms/step - loss: 0.5264 - accuracy: 0.8238 - val_loss: 0.5323 - val_accuracy: 0.7679\n",
            "Epoch 13/120\n",
            "1/1 [==============================] - 0s 29ms/step - loss: 0.5147 - accuracy: 0.8333 - val_loss: 0.5233 - val_accuracy: 0.7857\n",
            "Epoch 14/120\n",
            "1/1 [==============================] - 0s 30ms/step - loss: 0.5036 - accuracy: 0.8571 - val_loss: 0.5149 - val_accuracy: 0.8214\n",
            "Epoch 15/120\n",
            "1/1 [==============================] - 0s 31ms/step - loss: 0.4930 - accuracy: 0.8524 - val_loss: 0.5070 - val_accuracy: 0.8214\n",
            "Epoch 16/120\n",
            "1/1 [==============================] - 0s 36ms/step - loss: 0.4830 - accuracy: 0.8524 - val_loss: 0.4994 - val_accuracy: 0.8214\n",
            "Epoch 17/120\n",
            "1/1 [==============================] - 0s 33ms/step - loss: 0.4733 - accuracy: 0.8524 - val_loss: 0.4922 - val_accuracy: 0.8214\n",
            "Epoch 18/120\n",
            "1/1 [==============================] - 0s 39ms/step - loss: 0.4640 - accuracy: 0.8571 - val_loss: 0.4852 - val_accuracy: 0.8214\n",
            "Epoch 19/120\n",
            "1/1 [==============================] - 0s 31ms/step - loss: 0.4550 - accuracy: 0.8619 - val_loss: 0.4786 - val_accuracy: 0.8214\n",
            "Epoch 20/120\n",
            "1/1 [==============================] - 0s 34ms/step - loss: 0.4463 - accuracy: 0.8667 - val_loss: 0.4723 - val_accuracy: 0.8393\n",
            "Epoch 21/120\n",
            "1/1 [==============================] - 0s 32ms/step - loss: 0.4378 - accuracy: 0.8667 - val_loss: 0.4662 - val_accuracy: 0.8571\n",
            "Epoch 22/120\n",
            "1/1 [==============================] - 0s 31ms/step - loss: 0.4296 - accuracy: 0.8667 - val_loss: 0.4604 - val_accuracy: 0.8571\n",
            "Epoch 23/120\n",
            "1/1 [==============================] - 0s 37ms/step - loss: 0.4216 - accuracy: 0.8667 - val_loss: 0.4548 - val_accuracy: 0.8571\n",
            "Epoch 24/120\n",
            "1/1 [==============================] - 0s 42ms/step - loss: 0.4138 - accuracy: 0.8667 - val_loss: 0.4494 - val_accuracy: 0.8571\n",
            "Epoch 25/120\n",
            "1/1 [==============================] - 0s 40ms/step - loss: 0.4062 - accuracy: 0.8714 - val_loss: 0.4441 - val_accuracy: 0.8571\n",
            "Epoch 26/120\n",
            "1/1 [==============================] - 0s 35ms/step - loss: 0.3986 - accuracy: 0.8762 - val_loss: 0.4391 - val_accuracy: 0.8571\n",
            "Epoch 27/120\n",
            "1/1 [==============================] - 0s 38ms/step - loss: 0.3913 - accuracy: 0.8762 - val_loss: 0.4343 - val_accuracy: 0.8571\n",
            "Epoch 28/120\n",
            "1/1 [==============================] - 0s 31ms/step - loss: 0.3841 - accuracy: 0.8762 - val_loss: 0.4296 - val_accuracy: 0.8571\n",
            "Epoch 29/120\n",
            "1/1 [==============================] - 0s 31ms/step - loss: 0.3771 - accuracy: 0.8762 - val_loss: 0.4252 - val_accuracy: 0.8571\n",
            "Epoch 30/120\n",
            "1/1 [==============================] - 0s 34ms/step - loss: 0.3701 - accuracy: 0.8762 - val_loss: 0.4209 - val_accuracy: 0.8393\n",
            "Epoch 31/120\n",
            "1/1 [==============================] - 0s 34ms/step - loss: 0.3634 - accuracy: 0.8762 - val_loss: 0.4167 - val_accuracy: 0.8393\n",
            "Epoch 32/120\n",
            "1/1 [==============================] - 0s 35ms/step - loss: 0.3568 - accuracy: 0.8762 - val_loss: 0.4126 - val_accuracy: 0.8393\n",
            "Epoch 33/120\n",
            "1/1 [==============================] - 0s 35ms/step - loss: 0.3503 - accuracy: 0.8810 - val_loss: 0.4087 - val_accuracy: 0.8393\n",
            "Epoch 34/120\n",
            "1/1 [==============================] - 0s 38ms/step - loss: 0.3440 - accuracy: 0.8857 - val_loss: 0.4050 - val_accuracy: 0.8393\n",
            "Epoch 35/120\n",
            "1/1 [==============================] - 0s 37ms/step - loss: 0.3378 - accuracy: 0.8857 - val_loss: 0.4014 - val_accuracy: 0.8393\n",
            "Epoch 36/120\n",
            "1/1 [==============================] - 0s 35ms/step - loss: 0.3317 - accuracy: 0.8857 - val_loss: 0.3980 - val_accuracy: 0.8393\n",
            "Epoch 37/120\n",
            "1/1 [==============================] - 0s 34ms/step - loss: 0.3258 - accuracy: 0.8952 - val_loss: 0.3947 - val_accuracy: 0.8393\n",
            "Epoch 38/120\n",
            "1/1 [==============================] - 0s 34ms/step - loss: 0.3199 - accuracy: 0.8952 - val_loss: 0.3916 - val_accuracy: 0.8393\n",
            "Epoch 39/120\n",
            "1/1 [==============================] - 0s 34ms/step - loss: 0.3141 - accuracy: 0.9000 - val_loss: 0.3886 - val_accuracy: 0.8393\n",
            "Epoch 40/120\n",
            "1/1 [==============================] - 0s 35ms/step - loss: 0.3085 - accuracy: 0.9000 - val_loss: 0.3858 - val_accuracy: 0.8393\n",
            "Epoch 41/120\n",
            "1/1 [==============================] - 0s 37ms/step - loss: 0.3029 - accuracy: 0.9000 - val_loss: 0.3830 - val_accuracy: 0.8393\n",
            "Epoch 42/120\n",
            "1/1 [==============================] - 0s 32ms/step - loss: 0.2975 - accuracy: 0.9000 - val_loss: 0.3804 - val_accuracy: 0.8393\n",
            "Epoch 43/120\n",
            "1/1 [==============================] - 0s 39ms/step - loss: 0.2922 - accuracy: 0.9000 - val_loss: 0.3780 - val_accuracy: 0.8393\n",
            "Epoch 44/120\n",
            "1/1 [==============================] - 0s 35ms/step - loss: 0.2869 - accuracy: 0.9048 - val_loss: 0.3757 - val_accuracy: 0.8393\n",
            "Epoch 45/120\n",
            "1/1 [==============================] - 0s 36ms/step - loss: 0.2817 - accuracy: 0.9095 - val_loss: 0.3734 - val_accuracy: 0.8393\n",
            "Epoch 46/120\n",
            "1/1 [==============================] - 0s 36ms/step - loss: 0.2766 - accuracy: 0.9095 - val_loss: 0.3713 - val_accuracy: 0.8393\n",
            "Epoch 47/120\n",
            "1/1 [==============================] - 0s 33ms/step - loss: 0.2716 - accuracy: 0.9143 - val_loss: 0.3694 - val_accuracy: 0.8393\n",
            "Epoch 48/120\n",
            "1/1 [==============================] - 0s 34ms/step - loss: 0.2667 - accuracy: 0.9238 - val_loss: 0.3677 - val_accuracy: 0.8393\n",
            "Epoch 49/120\n",
            "1/1 [==============================] - 0s 41ms/step - loss: 0.2619 - accuracy: 0.9286 - val_loss: 0.3660 - val_accuracy: 0.8393\n",
            "Epoch 50/120\n",
            "1/1 [==============================] - 0s 37ms/step - loss: 0.2571 - accuracy: 0.9286 - val_loss: 0.3644 - val_accuracy: 0.8571\n",
            "Epoch 51/120\n",
            "1/1 [==============================] - 0s 36ms/step - loss: 0.2524 - accuracy: 0.9286 - val_loss: 0.3629 - val_accuracy: 0.8571\n",
            "Epoch 52/120\n",
            "1/1 [==============================] - 0s 34ms/step - loss: 0.2479 - accuracy: 0.9286 - val_loss: 0.3616 - val_accuracy: 0.8571\n",
            "Epoch 53/120\n",
            "1/1 [==============================] - 0s 32ms/step - loss: 0.2433 - accuracy: 0.9333 - val_loss: 0.3603 - val_accuracy: 0.8571\n",
            "Epoch 54/120\n",
            "1/1 [==============================] - 0s 33ms/step - loss: 0.2389 - accuracy: 0.9381 - val_loss: 0.3591 - val_accuracy: 0.8571\n",
            "Epoch 55/120\n",
            "1/1 [==============================] - 0s 35ms/step - loss: 0.2345 - accuracy: 0.9381 - val_loss: 0.3580 - val_accuracy: 0.8571\n",
            "Epoch 56/120\n",
            "1/1 [==============================] - 0s 33ms/step - loss: 0.2301 - accuracy: 0.9381 - val_loss: 0.3572 - val_accuracy: 0.8571\n",
            "Epoch 57/120\n",
            "1/1 [==============================] - 0s 30ms/step - loss: 0.2259 - accuracy: 0.9381 - val_loss: 0.3563 - val_accuracy: 0.8571\n",
            "Epoch 58/120\n",
            "1/1 [==============================] - 0s 33ms/step - loss: 0.2217 - accuracy: 0.9381 - val_loss: 0.3557 - val_accuracy: 0.8571\n",
            "Epoch 59/120\n",
            "1/1 [==============================] - 0s 35ms/step - loss: 0.2177 - accuracy: 0.9381 - val_loss: 0.3550 - val_accuracy: 0.8571\n",
            "Epoch 60/120\n",
            "1/1 [==============================] - 0s 32ms/step - loss: 0.2137 - accuracy: 0.9429 - val_loss: 0.3543 - val_accuracy: 0.8571\n",
            "Epoch 61/120\n",
            "1/1 [==============================] - 0s 31ms/step - loss: 0.2098 - accuracy: 0.9429 - val_loss: 0.3535 - val_accuracy: 0.8571\n",
            "Epoch 62/120\n",
            "1/1 [==============================] - 0s 33ms/step - loss: 0.2060 - accuracy: 0.9429 - val_loss: 0.3529 - val_accuracy: 0.8571\n",
            "Epoch 63/120\n",
            "1/1 [==============================] - 0s 41ms/step - loss: 0.2022 - accuracy: 0.9476 - val_loss: 0.3522 - val_accuracy: 0.8571\n",
            "Epoch 64/120\n",
            "1/1 [==============================] - 0s 34ms/step - loss: 0.1985 - accuracy: 0.9524 - val_loss: 0.3517 - val_accuracy: 0.8571\n",
            "Epoch 65/120\n",
            "1/1 [==============================] - 0s 36ms/step - loss: 0.1949 - accuracy: 0.9524 - val_loss: 0.3511 - val_accuracy: 0.8571\n",
            "Epoch 66/120\n",
            "1/1 [==============================] - 0s 35ms/step - loss: 0.1913 - accuracy: 0.9524 - val_loss: 0.3506 - val_accuracy: 0.8571\n",
            "Epoch 67/120\n",
            "1/1 [==============================] - 0s 34ms/step - loss: 0.1877 - accuracy: 0.9524 - val_loss: 0.3500 - val_accuracy: 0.8571\n",
            "Epoch 68/120\n",
            "1/1 [==============================] - 0s 34ms/step - loss: 0.1842 - accuracy: 0.9524 - val_loss: 0.3498 - val_accuracy: 0.8571\n",
            "Epoch 69/120\n",
            "1/1 [==============================] - 0s 36ms/step - loss: 0.1808 - accuracy: 0.9524 - val_loss: 0.3492 - val_accuracy: 0.8750\n",
            "Epoch 70/120\n",
            "1/1 [==============================] - 0s 41ms/step - loss: 0.1774 - accuracy: 0.9524 - val_loss: 0.3492 - val_accuracy: 0.8750\n",
            "Epoch 71/120\n",
            "1/1 [==============================] - 0s 36ms/step - loss: 0.1741 - accuracy: 0.9524 - val_loss: 0.3490 - val_accuracy: 0.8750\n",
            "Epoch 72/120\n",
            "1/1 [==============================] - 0s 40ms/step - loss: 0.1708 - accuracy: 0.9524 - val_loss: 0.3486 - val_accuracy: 0.8750\n",
            "Epoch 73/120\n",
            "1/1 [==============================] - 0s 39ms/step - loss: 0.1676 - accuracy: 0.9571 - val_loss: 0.3485 - val_accuracy: 0.8750\n",
            "Epoch 74/120\n",
            "1/1 [==============================] - 0s 33ms/step - loss: 0.1644 - accuracy: 0.9571 - val_loss: 0.3484 - val_accuracy: 0.8750\n",
            "Epoch 75/120\n",
            "1/1 [==============================] - 0s 31ms/step - loss: 0.1613 - accuracy: 0.9571 - val_loss: 0.3481 - val_accuracy: 0.8750\n",
            "Epoch 76/120\n",
            "1/1 [==============================] - 0s 34ms/step - loss: 0.1582 - accuracy: 0.9571 - val_loss: 0.3481 - val_accuracy: 0.8750\n",
            "Epoch 77/120\n",
            "1/1 [==============================] - 0s 37ms/step - loss: 0.1552 - accuracy: 0.9571 - val_loss: 0.3476 - val_accuracy: 0.8750\n",
            "Epoch 78/120\n",
            "1/1 [==============================] - 0s 37ms/step - loss: 0.1522 - accuracy: 0.9667 - val_loss: 0.3473 - val_accuracy: 0.8750\n",
            "Epoch 79/120\n",
            "1/1 [==============================] - 0s 31ms/step - loss: 0.1493 - accuracy: 0.9667 - val_loss: 0.3471 - val_accuracy: 0.8750\n",
            "Epoch 80/120\n",
            "1/1 [==============================] - 0s 32ms/step - loss: 0.1464 - accuracy: 0.9667 - val_loss: 0.3471 - val_accuracy: 0.8750\n",
            "Epoch 81/120\n",
            "1/1 [==============================] - 0s 33ms/step - loss: 0.1436 - accuracy: 0.9667 - val_loss: 0.3469 - val_accuracy: 0.8750\n",
            "Epoch 82/120\n",
            "1/1 [==============================] - 0s 45ms/step - loss: 0.1408 - accuracy: 0.9667 - val_loss: 0.3467 - val_accuracy: 0.8750\n",
            "Epoch 83/120\n",
            "1/1 [==============================] - 0s 33ms/step - loss: 0.1380 - accuracy: 0.9667 - val_loss: 0.3466 - val_accuracy: 0.8750\n",
            "Epoch 84/120\n",
            "1/1 [==============================] - 0s 36ms/step - loss: 0.1353 - accuracy: 0.9667 - val_loss: 0.3464 - val_accuracy: 0.8750\n",
            "Epoch 85/120\n",
            "1/1 [==============================] - 0s 32ms/step - loss: 0.1326 - accuracy: 0.9714 - val_loss: 0.3465 - val_accuracy: 0.8750\n",
            "Epoch 86/120\n",
            "1/1 [==============================] - 0s 32ms/step - loss: 0.1300 - accuracy: 0.9714 - val_loss: 0.3464 - val_accuracy: 0.8750\n",
            "Epoch 87/120\n",
            "1/1 [==============================] - 0s 34ms/step - loss: 0.1274 - accuracy: 0.9714 - val_loss: 0.3464 - val_accuracy: 0.8750\n",
            "Epoch 88/120\n",
            "1/1 [==============================] - 0s 33ms/step - loss: 0.1248 - accuracy: 0.9762 - val_loss: 0.3465 - val_accuracy: 0.8750\n",
            "Epoch 89/120\n",
            "1/1 [==============================] - 0s 35ms/step - loss: 0.1223 - accuracy: 0.9762 - val_loss: 0.3463 - val_accuracy: 0.8750\n",
            "Epoch 90/120\n",
            "1/1 [==============================] - 0s 34ms/step - loss: 0.1198 - accuracy: 0.9762 - val_loss: 0.3462 - val_accuracy: 0.8750\n",
            "Epoch 91/120\n",
            "1/1 [==============================] - 0s 34ms/step - loss: 0.1174 - accuracy: 0.9762 - val_loss: 0.3462 - val_accuracy: 0.8750\n",
            "Epoch 92/120\n",
            "1/1 [==============================] - 0s 35ms/step - loss: 0.1150 - accuracy: 0.9762 - val_loss: 0.3463 - val_accuracy: 0.8750\n",
            "Epoch 93/120\n",
            "1/1 [==============================] - 0s 37ms/step - loss: 0.1126 - accuracy: 0.9762 - val_loss: 0.3465 - val_accuracy: 0.8750\n",
            "Epoch 94/120\n",
            "1/1 [==============================] - 0s 41ms/step - loss: 0.1104 - accuracy: 0.9762 - val_loss: 0.3465 - val_accuracy: 0.8750\n",
            "Epoch 95/120\n",
            "1/1 [==============================] - 0s 33ms/step - loss: 0.1081 - accuracy: 0.9762 - val_loss: 0.3467 - val_accuracy: 0.8750\n",
            "Epoch 96/120\n",
            "1/1 [==============================] - 0s 41ms/step - loss: 0.1059 - accuracy: 0.9762 - val_loss: 0.3468 - val_accuracy: 0.8750\n",
            "Epoch 97/120\n",
            "1/1 [==============================] - 0s 43ms/step - loss: 0.1037 - accuracy: 0.9762 - val_loss: 0.3475 - val_accuracy: 0.8750\n",
            "Epoch 98/120\n",
            "1/1 [==============================] - 0s 38ms/step - loss: 0.1015 - accuracy: 0.9762 - val_loss: 0.3479 - val_accuracy: 0.8750\n",
            "Epoch 99/120\n",
            "1/1 [==============================] - 0s 35ms/step - loss: 0.0994 - accuracy: 0.9762 - val_loss: 0.3480 - val_accuracy: 0.8750\n",
            "Epoch 100/120\n",
            "1/1 [==============================] - 0s 34ms/step - loss: 0.0974 - accuracy: 0.9762 - val_loss: 0.3480 - val_accuracy: 0.8750\n",
            "Epoch 101/120\n",
            "1/1 [==============================] - 0s 37ms/step - loss: 0.0953 - accuracy: 0.9762 - val_loss: 0.3487 - val_accuracy: 0.8750\n",
            "Epoch 102/120\n",
            "1/1 [==============================] - 0s 37ms/step - loss: 0.0933 - accuracy: 0.9762 - val_loss: 0.3490 - val_accuracy: 0.8750\n",
            "Epoch 103/120\n",
            "1/1 [==============================] - 0s 41ms/step - loss: 0.0914 - accuracy: 0.9762 - val_loss: 0.3491 - val_accuracy: 0.8750\n",
            "Epoch 104/120\n",
            "1/1 [==============================] - 0s 33ms/step - loss: 0.0894 - accuracy: 0.9810 - val_loss: 0.3491 - val_accuracy: 0.8750\n",
            "Epoch 105/120\n",
            "1/1 [==============================] - 0s 35ms/step - loss: 0.0875 - accuracy: 0.9810 - val_loss: 0.3493 - val_accuracy: 0.8750\n",
            "Epoch 106/120\n",
            "1/1 [==============================] - 0s 30ms/step - loss: 0.0856 - accuracy: 0.9810 - val_loss: 0.3504 - val_accuracy: 0.8750\n",
            "Epoch 107/120\n",
            "1/1 [==============================] - 0s 35ms/step - loss: 0.0838 - accuracy: 0.9810 - val_loss: 0.3502 - val_accuracy: 0.8750\n",
            "Epoch 108/120\n",
            "1/1 [==============================] - 0s 35ms/step - loss: 0.0819 - accuracy: 0.9810 - val_loss: 0.3505 - val_accuracy: 0.8750\n",
            "Epoch 109/120\n",
            "1/1 [==============================] - 0s 41ms/step - loss: 0.0802 - accuracy: 0.9810 - val_loss: 0.3511 - val_accuracy: 0.8750\n",
            "Epoch 110/120\n",
            "1/1 [==============================] - 0s 41ms/step - loss: 0.0784 - accuracy: 0.9857 - val_loss: 0.3507 - val_accuracy: 0.8750\n",
            "Epoch 111/120\n",
            "1/1 [==============================] - 0s 42ms/step - loss: 0.0767 - accuracy: 0.9857 - val_loss: 0.3515 - val_accuracy: 0.8750\n",
            "Epoch 112/120\n",
            "1/1 [==============================] - 0s 37ms/step - loss: 0.0750 - accuracy: 0.9857 - val_loss: 0.3513 - val_accuracy: 0.8750\n",
            "Epoch 113/120\n",
            "1/1 [==============================] - 0s 37ms/step - loss: 0.0733 - accuracy: 0.9857 - val_loss: 0.3522 - val_accuracy: 0.8750\n",
            "Epoch 114/120\n",
            "1/1 [==============================] - 0s 34ms/step - loss: 0.0716 - accuracy: 0.9857 - val_loss: 0.3523 - val_accuracy: 0.8750\n",
            "Epoch 115/120\n",
            "1/1 [==============================] - 0s 39ms/step - loss: 0.0700 - accuracy: 0.9857 - val_loss: 0.3531 - val_accuracy: 0.8750\n",
            "Epoch 116/120\n",
            "1/1 [==============================] - 0s 37ms/step - loss: 0.0685 - accuracy: 0.9952 - val_loss: 0.3532 - val_accuracy: 0.8750\n",
            "Epoch 117/120\n",
            "1/1 [==============================] - 0s 36ms/step - loss: 0.0669 - accuracy: 0.9952 - val_loss: 0.3540 - val_accuracy: 0.8750\n",
            "Epoch 118/120\n",
            "1/1 [==============================] - 0s 34ms/step - loss: 0.0655 - accuracy: 0.9952 - val_loss: 0.3545 - val_accuracy: 0.8571\n",
            "Epoch 119/120\n",
            "1/1 [==============================] - 0s 33ms/step - loss: 0.0640 - accuracy: 0.9952 - val_loss: 0.3548 - val_accuracy: 0.8571\n",
            "Epoch 120/120\n",
            "1/1 [==============================] - 0s 33ms/step - loss: 0.0625 - accuracy: 0.9952 - val_loss: 0.3551 - val_accuracy: 0.8571\n"
          ],
          "name": "stdout"
        }
      ]
    },
    {
      "cell_type": "code",
      "metadata": {
        "colab": {
          "base_uri": "https://localhost:8080/"
        },
        "id": "CYC-u2t7KbQV",
        "outputId": "d0f5b655-ff51-470e-ec10-bd2baae10ab3"
      },
      "source": [
        "evaluation = model.evaluate(test_data,test_labels)"
      ],
      "execution_count": null,
      "outputs": [
        {
          "output_type": "stream",
          "text": [
            "3/3 [==============================] - 0s 3ms/step - loss: 0.3244 - accuracy: 0.8690\n"
          ],
          "name": "stdout"
        }
      ]
    },
    {
      "cell_type": "code",
      "metadata": {
        "colab": {
          "base_uri": "https://localhost:8080/",
          "height": 295
        },
        "id": "QBJPrnL4J58I",
        "outputId": "1d1a0d13-af57-446b-dfc1-1accedf286ef"
      },
      "source": [
        "import matplotlib.pyplot as plt\n",
        "loss = history.history['loss']\n",
        "val_loss = history.history['val_loss']\n",
        "epochs = range(1, len(loss) + 1)\n",
        "plt.plot(epochs, loss, 'b', label='Training loss')\n",
        "plt.plot(epochs, val_loss, 'r', label='Validation Loss')\n",
        "plt.title('Training loss')\n",
        "plt.xlabel('Epochs')\n",
        "plt.ylabel('Loss')\n",
        "plt.legend()\n",
        "plt.show()"
      ],
      "execution_count": null,
      "outputs": [
        {
          "output_type": "display_data",
          "data": {
            "image/png": "[encoded data removed]",
            "text/plain": [
              "<Figure size 432x288 with 1 Axes>"
            ]
          },
          "metadata": {
            "tags": [],
            "needs_background": "light"
          }
        }
      ]
    },
    {
      "cell_type": "code",
      "metadata": {
        "colab": {
          "base_uri": "https://localhost:8080/",
          "height": 295
        },
        "id": "Fxefg5PtKP0f",
        "outputId": "a305e3e9-b2b0-40df-c233-ea57eaedc4ab"
      },
      "source": [
        "acc = history.history['accuracy']\n",
        "val_acc = history.history['val_accuracy']\n",
        "plt.plot(epochs, acc, 'b', label='Training acc')\n",
        "plt.plot(epochs, val_acc, 'r', label='Validation acc')\n",
        "plt.title('Training Accuracy')\n",
        "plt.xlabel('Epochs')\n",
        "plt.ylabel('Accuracy')\n",
        "plt.legend()\n",
        "plt.show()"
      ],
      "execution_count": null,
      "outputs": [
        {
          "output_type": "display_data",
          "data": {
            "image/png": "[encoded data removed]",
            "text/plain": [
              "<Figure size 432x288 with 1 Axes>"
            ]
          },
          "metadata": {
            "tags": [],
            "needs_background": "light"
          }
        }
      ]
    },
    {
      "cell_type": "code",
      "metadata": {
        "colab": {
          "base_uri": "https://localhost:8080/"
        },
        "id": "q7_yuFw-KwVL",
        "outputId": "959bce94-a84b-4627-c615-0ff6a707f8cc"
      },
      "source": [
        "print(f'{evaluation[1] * 100} % is the accuracy achieved on testing data by the created model')"
      ],
      "execution_count": null,
      "outputs": [
        {
          "output_type": "stream",
          "text": [
            "86.90476417541504 % is the accuracy achieved on testing data by the created model\n"
          ],
          "name": "stdout"
        }
      ]
    }
  ]
}